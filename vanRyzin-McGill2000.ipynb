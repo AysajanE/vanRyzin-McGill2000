{
 "cells": [
  {
   "cell_type": "code",
   "execution_count": 1,
   "metadata": {},
   "outputs": [],
   "source": [
    "# This notebook replicates McGill-van Ryzin 2000 Management Science Article"
   ]
  },
  {
   "cell_type": "code",
   "execution_count": 2,
   "metadata": {},
   "outputs": [],
   "source": [
    "import numpy as np\n",
    "import scipy.stats as st\n",
    "import matplotlib.pyplot as plt\n",
    "from matplotlib.ticker import PercentFormatter"
   ]
  },
  {
   "cell_type": "code",
   "execution_count": 3,
   "metadata": {},
   "outputs": [],
   "source": [
    "# Test problem scenarios: four classes with different fares and demand statistics\n",
    "n_class = 4\n",
    "fare = np.array([1050, 567, 527, 350])\n",
    "mean = np.array([17.3, 45.1, 73.6, 19.8])\n",
    "std = np.array([5.8, 15.0, 17.4, 6.6])"
   ]
  },
  {
   "cell_type": "code",
   "execution_count": 4,
   "metadata": {},
   "outputs": [],
   "source": [
    "mean_cumsum = np.cumsum(mean)\n",
    "std_cumsum = np.sqrt(np.cumsum(std**2))\n",
    "totalrev = fare * mean\n",
    "totalrev_cumsum = np.cumsum(totalrev)"
   ]
  },
  {
   "cell_type": "code",
   "execution_count": 5,
   "metadata": {},
   "outputs": [
    {
     "data": {
      "text/plain": [
       "(array([ 17.3,  62.4, 136. , 155.8]),\n",
       " array([ 5.8       , 16.08228839, 23.69388107, 24.59593462]),\n",
       " array([18165. , 25571.7, 38787.2,  6930. ]),\n",
       " array([18165. , 43736.7, 82523.9, 89453.9]))"
      ]
     },
     "execution_count": 5,
     "metadata": {},
     "output_type": "execute_result"
    }
   ],
   "source": [
    "(mean_cumsum, std_cumsum, totalrev, totalrev_cumsum)"
   ]
  },
  {
   "cell_type": "code",
   "execution_count": 6,
   "metadata": {},
   "outputs": [],
   "source": [
    "# Compute weighted average revenue\n",
    "avgrev_weighted = totalrev_cumsum / mean_cumsum\n",
    "# Probability of demand being higher than the protection level\n",
    "prob_emsr = np.array([fare[i+1] / avgrev_weighted[i] for i in range(n_class - 1)])"
   ]
  },
  {
   "cell_type": "code",
   "execution_count": 7,
   "metadata": {},
   "outputs": [
    {
     "data": {
      "text/plain": [
       "(array([1050.        ,  700.90865385,  606.79338235,  574.15853659]),\n",
       " array([0.54      , 0.75188114, 0.5768026 ]))"
      ]
     },
     "execution_count": 7,
     "metadata": {},
     "output_type": "execute_result"
    }
   ],
   "source": [
    "avgrev_weighted, prob_emsr"
   ]
  },
  {
   "cell_type": "code",
   "execution_count": 8,
   "metadata": {},
   "outputs": [],
   "source": [
    "# EMSR-b protection levels\n",
    "theta_emsr = st.norm.ppf(1 - prob_emsr, mean_cumsum[:-1], std_cumsum[:-1])"
   ]
  },
  {
   "cell_type": "code",
   "execution_count": 9,
   "metadata": {},
   "outputs": [
    {
     "data": {
      "text/plain": [
       "array([ 16.71748442,  51.4572678 , 131.41001141])"
      ]
     },
     "execution_count": 9,
     "metadata": {},
     "output_type": "execute_result"
    }
   ],
   "source": [
    "theta_emsr"
   ]
  },
  {
   "cell_type": "code",
   "execution_count": 10,
   "metadata": {},
   "outputs": [],
   "source": [
    "# Calculate optimal protection level based on stochastic approximation (SA)\n",
    "ratio = np.array([fare[i] / fare[0] for i in range(1, n_class)])"
   ]
  },
  {
   "cell_type": "code",
   "execution_count": 11,
   "metadata": {},
   "outputs": [],
   "source": [
    "# In order to find optimal protection levels for SA algorithm, we use\n",
    "# monte carlo integration specified in McGill-van Ryzin(2004) book\n",
    "# Page 43\n",
    "size = 10000\n",
    "# Normal dist\n",
    "# demand = np.array([[np.random.normal(mean[i], std[i], 1) for i in range(n_class)] for _ in range(size)])\n",
    "# demand = demand.reshape(size, n_class)\n",
    "demand = np.array([np.random.normal(mean[i], std[i], size) for i in range(n_class)])\n",
    "\n",
    "# Lognormal dist\n",
    "# Be careful when calculating parameters: https://en.wikipedia.org/wiki/Log-normal_distribution\n",
    "# logmean = np.log(mean**2 / np.sqrt(mean**2 + std**2))\n",
    "# logstd = np.sqrt(np.log(1 + std**2 / mean**2))\n",
    "# demand = np.array([np.random.lognormal(logmean[i], logstd[i], size=size) for i in range(n_class)])\n",
    "\n",
    "demand = np.transpose(demand)"
   ]
  },
  {
   "cell_type": "code",
   "execution_count": 12,
   "metadata": {},
   "outputs": [
    {
     "data": {
      "text/plain": [
       "(10000, 4)"
      ]
     },
     "execution_count": 12,
     "metadata": {},
     "output_type": "execute_result"
    }
   ],
   "source": [
    "demand.shape"
   ]
  },
  {
   "cell_type": "code",
   "execution_count": 13,
   "metadata": {},
   "outputs": [
    {
     "data": {
      "text/plain": [
       "array([[21.5340329 , 64.89181867, 57.48671407,  6.63391755],\n",
       "       [12.75096527, 59.24758855, 62.79558665, 27.47049707],\n",
       "       [15.18811634, 24.05764463, 51.67932466, 16.16427869],\n",
       "       [19.44469459, 17.47001585, 46.88965431, 12.84507529],\n",
       "       [16.78266096, 49.78867217, 46.63907587, 24.73455984],\n",
       "       [21.50580844, 63.4762141 , 95.5397462 ,  2.17410159],\n",
       "       [21.63433408, 46.59402762, 86.31293853, 20.94478139],\n",
       "       [30.47362739, 47.41699751, 77.110352  , 27.15741276],\n",
       "       [23.69058047, 49.74538557, 93.71059134, 25.24868194],\n",
       "       [25.63982014, 52.95379881, 79.39998108, 12.22674991]])"
      ]
     },
     "execution_count": 13,
     "metadata": {},
     "output_type": "execute_result"
    }
   ],
   "source": [
    "demand[:10,]"
   ]
  },
  {
   "cell_type": "code",
   "execution_count": 14,
   "metadata": {},
   "outputs": [
    {
     "data": {
      "text/plain": [
       "array([[ 21.5340329 ,  86.42585157, 143.91256564, 150.5464832 ],\n",
       "       [ 12.75096527,  71.99855382, 134.79414048, 162.26463755],\n",
       "       [ 15.18811634,  39.24576096,  90.92508562, 107.08936431],\n",
       "       [ 19.44469459,  36.91471045,  83.80436476,  96.64944005],\n",
       "       [ 16.78266096,  66.57133313, 113.210409  , 137.94496883],\n",
       "       [ 21.50580844,  84.98202254, 180.52176874, 182.69587033],\n",
       "       [ 21.63433408,  68.22836169, 154.54130023, 175.48608162],\n",
       "       [ 30.47362739,  77.8906249 , 155.0009769 , 182.15838966],\n",
       "       [ 23.69058047,  73.43596603, 167.14655737, 192.39523932],\n",
       "       [ 25.63982014,  78.59361895, 157.99360004, 170.22034994]])"
      ]
     },
     "execution_count": 14,
     "metadata": {},
     "output_type": "execute_result"
    }
   ],
   "source": [
    "# Compute random demand partial sums\n",
    "demand_cumsum = np.array([np.cumsum(demand[i]) for i in range(size)])\n",
    "demand_cumsum[:10]"
   ]
  },
  {
   "cell_type": "code",
   "execution_count": 15,
   "metadata": {},
   "outputs": [],
   "source": [
    "theta_norm = []\n",
    "cumsum_copy = demand_cumsum.copy()\n",
    "for j in range(n_class - 1):\n",
    "    # Step 1\n",
    "    cumsum_copy_ordered = np.sort(cumsum_copy[:, j])\n",
    "    # Step 2\n",
    "    threshold = int(np.floor((fare[j+1] / fare[j]) * len(cumsum_copy_ordered)))\n",
    "    # An error in the initial algorithm. After calculation l*, there should be\n",
    "    # one more calculation before finding y_j, which is the index used to calculate\n",
    "    # y_j should be |k|-l*, not l* itself.\n",
    "    threshold = len(cumsum_copy_ordered) - threshold\n",
    "    theta = 0.5 * (cumsum_copy_ordered[threshold-1] + cumsum_copy_ordered[threshold])\n",
    "    # Step 3\n",
    "    index = np.where(cumsum_copy[:, j] > theta)\n",
    "    # In step 3, we only keep the updated values we use for next iteration\n",
    "    cumsum_copy = cumsum_copy[index]\n",
    "    theta_norm.append(theta)"
   ]
  },
  {
   "cell_type": "code",
   "execution_count": 16,
   "metadata": {},
   "outputs": [
    {
     "data": {
      "text/plain": [
       "array([ 16.72354526,  44.36225932, 133.30649731])"
      ]
     },
     "execution_count": 16,
     "metadata": {},
     "output_type": "execute_result"
    }
   ],
   "source": [
    "theta_norm = np.array(theta_norm)\n",
    "theta_norm"
   ]
  },
  {
   "cell_type": "code",
   "execution_count": 17,
   "metadata": {},
   "outputs": [
    {
     "name": "stdout",
     "output_type": "stream",
     "text": [
      "1.26 0.95\n"
     ]
    }
   ],
   "source": [
    "# Algorithm starting protection levels\n",
    "theta_low = np.array([0, 15, 65])\n",
    "theta_high = np.array([35, 110, 210])\n",
    "expected_demand = np.sum(mean)\n",
    "cap_low = 124\n",
    "cap_high = 164\n",
    "\n",
    "# For SA algorithm, we have two parameters for step size: param1 and param2\n",
    "param1, param2 = 200, 10\n",
    "\n",
    "# Calculate load factors\n",
    "load_high = expected_demand / cap_low\n",
    "load_low = expected_demand / cap_high\n",
    "print(\"%.2f\" % load_high, \"%.2f\" % load_low)"
   ]
  },
  {
   "cell_type": "code",
   "execution_count": 18,
   "metadata": {},
   "outputs": [],
   "source": [
    "# For the remainder of the simulation, assume normal distribution\n",
    "flights = 100\n",
    "n_simulation = 100\n",
    "thetas = []\n",
    "revs_sa = []\n",
    "revs_opt = []\n",
    "for _ in range(n_simulation):\n",
    "    # Scenario 1: low demand, low start, normal distribution\n",
    "    theta_update = theta_low\n",
    "    capacity = cap_high\n",
    "    # Scenario 2: low demand, high start, normal distribution\n",
    "#     theta_update = theta_high\n",
    "#     capacity = cap_high\n",
    "    # Scenario 3: high demand, low start, normal distribution\n",
    "#     theta_update = theta_low\n",
    "#     capacity = cap_low\n",
    "    # Scenario 4: high demand, high start, normal distribution\n",
    "#     theta_update = theta_high\n",
    "#     capacity = cap_low\n",
    "    for flight in range(flights):\n",
    "        # Assume demand has normal distribution\n",
    "        obs_demand = [np.random.normal(mean[i], std[i], 1) for i in range(n_class)]\n",
    "        obs_demand = np.array(obs_demand).reshape(n_class,)\n",
    "        # For each flight, tickets sold are calculated from scratch\n",
    "        # For each flight, capacity is also traced back to original capacity\n",
    "        # Calculate revenue, assuming low class arrives before high class\n",
    "        sold_sa = []\n",
    "        sold_opt = []\n",
    "        capacity_sa = capacity\n",
    "        capacity_opt = capacity\n",
    "        # Assume low class arrives before high class\n",
    "        for i in range(n_class - 1, 0, -1):\n",
    "            # Tickets sold with stochastic approximation algorithm\n",
    "            # It is possible that hypothetical protection level for a class exceeds capacity\n",
    "            BL_sa = max(capacity_sa - theta_update[i-1], 0)\n",
    "            # Tickets sold is the lower of booking requests and booking limits for that class\n",
    "            sold1 = min(obs_demand[i], BL_sa)\n",
    "            sold_sa.append(sold1)\n",
    "            # Update capacity for the next arrival class\n",
    "            capacity_sa = capacity_sa - sold1\n",
    "            \n",
    "            # Tickets sold with optimal protection levels\n",
    "            BL_opt = max(capacity_opt - theta_norm[i-1], 0)\n",
    "            sold2 = min(obs_demand[i], BL_opt)\n",
    "            sold_opt.append(sold2)\n",
    "            capacity_opt = capacity_opt - sold2\n",
    "        # Calculate revenue from first class separately since there is no booking limit\n",
    "        # for this class\n",
    "        # SA algorithm\n",
    "        sold_first_class_sa = min(obs_demand[0], capacity_sa)\n",
    "        sold_sa.append(sold_first_class_sa)\n",
    "        \n",
    "        # Optimal protection levels\n",
    "        sold_first_class_opt = min(obs_demand[0], capacity_opt)\n",
    "        sold_opt.append(sold_first_class_opt)\n",
    "        \n",
    "        # Reverse the order since current array is from class 4 to class 1\n",
    "        sold_sa = sold_sa[::-1]\n",
    "        sold_opt = sold_opt[::-1]\n",
    "\n",
    "        # Compute revenue\n",
    "        rev_sa = np.inner(sold_sa, fare)\n",
    "        rev_opt = np.inner(sold_opt, fare)\n",
    "        # Store the revenue info\n",
    "        revs_sa.append(rev_sa)\n",
    "        revs_opt.append(rev_opt)\n",
    "        \n",
    "        obs_demand_cumsum = np.cumsum(obs_demand)\n",
    "        \n",
    "        # Compute if the demand for a class exceeds its corresponding protection levels \n",
    "        Y = np.array([1 if obs_demand_cumsum[i] > theta_update[i] else 0 for i in range(n_class - 1)])\n",
    "        # Implement Equation(2) in vanRyzin-McGill 2000\n",
    "        Z = np.cumprod(Y)\n",
    "        # Calculate H(theta, x)\n",
    "        H = ratio - Z\n",
    "        theta_update = theta_update - (param1 / (param2+flight)) * H\n",
    "        # Capacity constraint and nonnegativity for protection levels\n",
    "        #theta_update = np.minimum(theta_update, np.repeat(capacity, n_class - 1))\n",
    "        theta_update = np.maximum(theta_update, np.zeros(n_class - 1))\n",
    "        # Store protection levels evolvement\n",
    "        thetas.append(theta_update)\n",
    "\n",
    "thetas = np.array(thetas).reshape(n_simulation, flights, n_class - 1)\n",
    "revs_sa = np.array(revs_sa).reshape(n_simulation, flights)\n",
    "revs_opt = np.array(revs_opt).reshape(n_simulation, flights)"
   ]
  },
  {
   "cell_type": "code",
   "execution_count": 19,
   "metadata": {},
   "outputs": [],
   "source": [
    "# Calculate averages for each flight over all simulations\n",
    "thetas_avg = np.mean(thetas, axis = 0)\n",
    "revs_sa_avg = np.mean(revs_sa, axis = 0)\n",
    "revs_opt_avg = np.mean(revs_opt, axis = 0)\n",
    "\n",
    "# Calculate revenue gap as percentages of revenue obtained from optimal protection levels\n",
    "rev_gap = revs_sa_avg / revs_opt_avg"
   ]
  },
  {
   "cell_type": "code",
   "execution_count": 20,
   "metadata": {},
   "outputs": [
    {
     "data": {
      "image/png": "[encoded data removed]",
      "text/plain": [
       "<Figure size 720x720 with 1 Axes>"
      ]
     },
     "metadata": {
      "needs_background": "light"
     },
     "output_type": "display_data"
    }
   ],
   "source": [
    "plt.figure(figsize=(10, 10))\n",
    "plt.plot(thetas_avg)\n",
    "plt.hlines(theta_norm, xmin = 0, xmax = 100, ls='dashed', color='r')\n",
    "plt.axis([0, 100, 0, 160])\n",
    "plt.xlabel('Iteration')\n",
    "plt.ylabel('SA Protection Levels')\n",
    "plt.xticks(np.arange(0, 100, step=10))\n",
    "plt.vlines(10, ymin=0, ymax=160, ls='dotted')\n",
    "plt.show()"
   ]
  },
  {
   "cell_type": "code",
   "execution_count": 21,
   "metadata": {},
   "outputs": [
    {
     "data": {
      "image/png": "[encoded data removed]",
      "text/plain": [
       "<Figure size 720x720 with 1 Axes>"
      ]
     },
     "metadata": {
      "needs_background": "light"
     },
     "output_type": "display_data"
    }
   ],
   "source": [
    "fig, ax = plt.subplots(figsize=(10, 10))\n",
    "plt.plot(rev_gap)\n",
    "plt.axis([0, 100, 0.9, 1.0])\n",
    "plt.xlabel('Iteration')\n",
    "plt.ylabel('Cumulative Revenue (%Opt)')\n",
    "plt.xticks(np.arange(0, 100, step=10))\n",
    "plt.yticks(np.arange(0.9, 1.01, step=0.02))\n",
    "ax.yaxis.set_major_formatter(PercentFormatter(1))\n",
    "plt.vlines(10, ymin=0, ymax=1, ls='dotted')\n",
    "plt.show()"
   ]
  },
  {
   "cell_type": "code",
   "execution_count": null,
   "metadata": {},
   "outputs": [],
   "source": []
  }
 ],
 "metadata": {
  "kernelspec": {
   "display_name": "Python 3",
   "language": "python",
   "name": "python3"
  },
  "language_info": {
   "codemirror_mode": {
    "name": "ipython",
    "version": 3
   },
   "file_extension": ".py",
   "mimetype": "text/x-python",
   "name": "python",
   "nbconvert_exporter": "python",
   "pygments_lexer": "ipython3",
   "version": "3.7.7"
  }
 },
 "nbformat": 4,
 "nbformat_minor": 4
}
