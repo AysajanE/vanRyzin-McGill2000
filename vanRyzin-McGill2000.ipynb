{
 "cells": [
  {
   "cell_type": "code",
   "execution_count": 1,
   "metadata": {},
   "outputs": [],
   "source": [
    "# This notebook replicates McGill-van Ryzin 2000 Management Science Article"
   ]
  },
  {
   "cell_type": "code",
   "execution_count": 160,
   "metadata": {},
   "outputs": [],
   "source": [
    "import numpy as np\n",
    "import scipy.stats as st\n",
    "import matplotlib.pyplot as plt\n",
    "from matplotlib.ticker import PercentFormatter"
   ]
  },
  {
   "cell_type": "code",
   "execution_count": 3,
   "metadata": {},
   "outputs": [],
   "source": [
    "# Test problem scenarios: four classes with different fares and demand statistics\n",
    "n_class = 4\n",
    "fare = np.array([1050, 567, 527, 350])\n",
    "mean = np.array([17.3, 45.1, 73.6, 19.8])\n",
    "std = np.array([5.8, 15.0, 17.4, 6.6])"
   ]
  },
  {
   "cell_type": "code",
   "execution_count": 4,
   "metadata": {},
   "outputs": [],
   "source": [
    "mean_cumsum = np.cumsum(mean)\n",
    "std_cumsum = np.sqrt(np.cumsum(std**2))\n",
    "totalrev = fare * mean\n",
    "totalrev_cumsum = np.cumsum(totalrev)"
   ]
  },
  {
   "cell_type": "code",
   "execution_count": 5,
   "metadata": {},
   "outputs": [
    {
     "data": {
      "text/plain": [
       "(array([ 17.3,  62.4, 136. , 155.8]),\n",
       " array([ 5.8       , 16.08228839, 23.69388107, 24.59593462]),\n",
       " array([18165. , 25571.7, 38787.2,  6930. ]),\n",
       " array([18165. , 43736.7, 82523.9, 89453.9]))"
      ]
     },
     "execution_count": 5,
     "metadata": {},
     "output_type": "execute_result"
    }
   ],
   "source": [
    "(mean_cumsum, std_cumsum, totalrev, totalrev_cumsum)"
   ]
  },
  {
   "cell_type": "code",
   "execution_count": 6,
   "metadata": {},
   "outputs": [],
   "source": [
    "# Compute weighted average revenue\n",
    "avgrev_weighted = totalrev_cumsum / mean_cumsum\n",
    "# Probability of demand being higher than the protection level\n",
    "prob_emsr = np.array([fare[i+1] / avgrev_weighted[i] for i in range(n_class - 1)])"
   ]
  },
  {
   "cell_type": "code",
   "execution_count": 7,
   "metadata": {},
   "outputs": [
    {
     "data": {
      "text/plain": [
       "(array([1050.        ,  700.90865385,  606.79338235,  574.15853659]),\n",
       " array([0.54      , 0.75188114, 0.5768026 ]))"
      ]
     },
     "execution_count": 7,
     "metadata": {},
     "output_type": "execute_result"
    }
   ],
   "source": [
    "avgrev_weighted, prob_emsr"
   ]
  },
  {
   "cell_type": "code",
   "execution_count": 8,
   "metadata": {},
   "outputs": [],
   "source": [
    "# EMSR-b protection levels\n",
    "theta_emsr = st.norm.ppf(1 - prob_emsr, mean_cumsum[:-1], std_cumsum[:-1])"
   ]
  },
  {
   "cell_type": "code",
   "execution_count": 9,
   "metadata": {},
   "outputs": [
    {
     "data": {
      "text/plain": [
       "array([ 16.71748442,  51.4572678 , 131.41001141])"
      ]
     },
     "execution_count": 9,
     "metadata": {},
     "output_type": "execute_result"
    }
   ],
   "source": [
    "theta_emsr"
   ]
  },
  {
   "cell_type": "code",
   "execution_count": 10,
   "metadata": {},
   "outputs": [],
   "source": [
    "# Calculate optimal protection level based on stochastic approximation (SA)\n",
    "ratio = np.array([fare[i] / fare[0] for i in range(1, n_class)])"
   ]
  },
  {
   "cell_type": "code",
   "execution_count": 95,
   "metadata": {},
   "outputs": [],
   "source": [
    "# In order to find optimal protection levels for SA algorithm, we use\n",
    "# monte carlo integration specified in McGill-van Ryzin(2004) book\n",
    "# Page 43\n",
    "size = 10000\n",
    "# Normal dist\n",
    "# demand = np.array([[np.random.normal(mean[i], std[i], 1) for i in range(n_class)] for _ in range(size)])\n",
    "# demand = demand.reshape(size, n_class)\n",
    "demand = np.array([np.random.normal(mean[i], std[i], size) for i in range(n_class)])\n",
    "\n",
    "# Lognormal dist\n",
    "# Be careful when calculating parameters: https://en.wikipedia.org/wiki/Log-normal_distribution\n",
    "# logmean = np.log(mean**2 / np.sqrt(mean**2 + std**2))\n",
    "# logstd = np.sqrt(np.log(1 + std**2 / mean**2))\n",
    "# demand = np.array([np.random.lognormal(logmean[i], logstd[i], size=size) for i in range(n_class)])\n",
    "\n",
    "demand = np.transpose(demand)"
   ]
  },
  {
   "cell_type": "code",
   "execution_count": 96,
   "metadata": {},
   "outputs": [
    {
     "data": {
      "text/plain": [
       "(10000, 4)"
      ]
     },
     "execution_count": 96,
     "metadata": {},
     "output_type": "execute_result"
    }
   ],
   "source": [
    "demand.shape"
   ]
  },
  {
   "cell_type": "code",
   "execution_count": 97,
   "metadata": {},
   "outputs": [
    {
     "data": {
      "text/plain": [
       "array([[21.62486863, 27.92748391, 84.97127776, 16.99846853],\n",
       "       [19.3631103 , 49.87434851, 78.81036029, 20.43587187],\n",
       "       [17.31127482,  4.63230063, 89.11084014, 17.62894622],\n",
       "       [ 9.30074943, 60.83916584, 85.03330088, 18.58848907],\n",
       "       [20.09015542, 36.33417251, 74.07265712, 12.11725325],\n",
       "       [14.42728519, 38.64379411, 56.31701152, 21.00365917],\n",
       "       [11.04649668, 54.58613334, 67.43894104, 21.79743287],\n",
       "       [ 7.7713872 , 54.47043025, 49.22245008, 25.76961862],\n",
       "       [10.64942454, 53.74086091, 34.84584707, 20.94979436],\n",
       "       [21.27177994, 24.48224663, 67.85039387, 28.82718699]])"
      ]
     },
     "execution_count": 97,
     "metadata": {},
     "output_type": "execute_result"
    }
   ],
   "source": [
    "demand[:10,]"
   ]
  },
  {
   "cell_type": "code",
   "execution_count": 98,
   "metadata": {},
   "outputs": [
    {
     "data": {
      "text/plain": [
       "array([[ 21.62486863,  49.55235254, 134.5236303 , 151.52209883],\n",
       "       [ 19.3631103 ,  69.23745881, 148.0478191 , 168.48369097],\n",
       "       [ 17.31127482,  21.94357545, 111.05441559, 128.68336181],\n",
       "       [  9.30074943,  70.13991526, 155.17321614, 173.76170521],\n",
       "       [ 20.09015542,  56.42432793, 130.49698505, 142.6142383 ],\n",
       "       [ 14.42728519,  53.0710793 , 109.38809082, 130.39174999],\n",
       "       [ 11.04649668,  65.63263002, 133.07157106, 154.86900393],\n",
       "       [  7.7713872 ,  62.24181745, 111.46426753, 137.23388614],\n",
       "       [ 10.64942454,  64.39028545,  99.23613252, 120.18592688],\n",
       "       [ 21.27177994,  45.75402657, 113.60442043, 142.43160743]])"
      ]
     },
     "execution_count": 98,
     "metadata": {},
     "output_type": "execute_result"
    }
   ],
   "source": [
    "# Compute random demand partial sums\n",
    "demand_cumsum = np.array([np.cumsum(demand[i]) for i in range(size)])\n",
    "demand_cumsum[:10]"
   ]
  },
  {
   "cell_type": "code",
   "execution_count": 99,
   "metadata": {},
   "outputs": [],
   "source": [
    "theta_norm = []\n",
    "cumsum_copy = demand_cumsum.copy()\n",
    "for j in range(n_class - 1):\n",
    "    # Step 1\n",
    "    cumsum_copy_ordered = np.sort(cumsum_copy[:, j])\n",
    "    # Step 2\n",
    "    threshold = int(np.floor((fare[j+1] / fare[j]) * len(cumsum_copy_ordered)))\n",
    "    # An error in the initial algorithm. After calculation l*, there should be\n",
    "    # one more calculation before finding y_j, which is the index used to calculate\n",
    "    # y_j should be |k|-l*, not l* itself.\n",
    "    threshold = len(cumsum_copy_ordered) - threshold\n",
    "    theta = 0.5 * (cumsum_copy_ordered[threshold-1] + cumsum_copy_ordered[threshold])\n",
    "    # Step 3\n",
    "    index = np.where(cumsum_copy[:, j] > theta)\n",
    "    # In step 3, we only keep the updated values we use for next iteration\n",
    "    cumsum_copy = cumsum_copy[index]\n",
    "    theta_norm.append(theta)"
   ]
  },
  {
   "cell_type": "code",
   "execution_count": 100,
   "metadata": {},
   "outputs": [
    {
     "data": {
      "text/plain": [
       "array([ 16.82599064,  44.64558198, 133.13734128])"
      ]
     },
     "execution_count": 100,
     "metadata": {},
     "output_type": "execute_result"
    }
   ],
   "source": [
    "theta_norm = np.array(theta_norm)\n",
    "theta_norm"
   ]
  },
  {
   "cell_type": "code",
   "execution_count": 101,
   "metadata": {},
   "outputs": [
    {
     "name": "stdout",
     "output_type": "stream",
     "text": [
      "1.26 0.95\n"
     ]
    }
   ],
   "source": [
    "# Algorithm starting protection levels\n",
    "theta_low = np.array([0, 15, 65])\n",
    "theta_high = np.array([35, 110, 210])\n",
    "expected_demand = np.sum(mean)\n",
    "cap_low = 124\n",
    "cap_high = 164\n",
    "\n",
    "# For SA algorithm, we have two parameters for step size: param1 and param2\n",
    "param1, param2 = 200, 10\n",
    "\n",
    "# Calculate load factors\n",
    "load_high = expected_demand / cap_low\n",
    "load_low = expected_demand / cap_high\n",
    "print(\"%.2f\" % load_high, \"%.2f\" % load_low)"
   ]
  },
  {
   "cell_type": "code",
   "execution_count": 42,
   "metadata": {},
   "outputs": [
    {
     "data": {
      "text/plain": [
       "(array([[19.4734368 ],\n",
       "        [50.61133193],\n",
       "        [64.70523267],\n",
       "        [ 7.47078705]]),\n",
       " array([ 0, 15, 65]),\n",
       " array([1050,  567,  527,  350]))"
      ]
     },
     "execution_count": 42,
     "metadata": {},
     "output_type": "execute_result"
    }
   ],
   "source": [
    "obs_demand_test = np.array([np.random.normal(mean[i], std[i], 1) for i in range(n_class)])\n",
    "obs_demand_test, theta_low, fare"
   ]
  },
  {
   "cell_type": "code",
   "execution_count": 138,
   "metadata": {},
   "outputs": [
    {
     "name": "stdout",
     "output_type": "stream",
     "text": [
      "14\n",
      "[14]\n",
      "86\n",
      "[14, 86]\n",
      "24\n",
      "[14, 86, 24]\n"
     ]
    }
   ],
   "source": [
    "sold_sa = []\n",
    "obs_demand = np.array([18, 58, 86, 14])\n",
    "capacity_sa = cap_low\n",
    "theta_update = theta_low\n",
    "for i in range(n_class - 1, 0, -1):\n",
    "    # Tickets sold with stochastic approximation algorithm\n",
    "    BL_sa = max(capacity_sa - theta_update[i-1], 0)\n",
    "    sold1 = min(obs_demand[i], BL_sa)\n",
    "    print(sold1)\n",
    "    sold_sa.append(sold1)\n",
    "    print(sold_sa)\n",
    "    capacity_sa = capacity_sa - sold1\n",
    "# Calculate revenue from first class separately since there is no booking limit\n",
    "# for this class\n",
    "sold_first_class = min(obs_demand[0], capacity_sa)\n",
    "sold_sa.append(sold_first_class)\n",
    "sold_sa = sold_sa[::-1]"
   ]
  },
  {
   "cell_type": "code",
   "execution_count": 164,
   "metadata": {},
   "outputs": [],
   "source": [
    "# For the remainder of the simulation, assume normal distribution\n",
    "flights = 100\n",
    "n_simulation = 100\n",
    "thetas = []\n",
    "revs_sa = []\n",
    "revs_opt = []\n",
    "for _ in range(n_simulation):\n",
    "    # Start with initial protection levels for each simulation\n",
    "    # change theta_low to theta_high for initial high protection levels\n",
    "    theta_update = theta_high\n",
    "    # Change cap_low to cap_high for low demand factor scenario\n",
    "    capacity = cap_low\n",
    "    for flight in range(flights):\n",
    "        # Assume demand has normal distribution\n",
    "        obs_demand = [np.random.normal(mean[i], std[i], 1) for i in range(n_class)]\n",
    "        obs_demand = np.array(obs_demand).reshape(n_class,)\n",
    "        # For each flight, tickets sold are calculated from scratch\n",
    "        # For each flight, capacity is also traced back to original capacity\n",
    "        # Calculate revenue, assuming low class arrives before high class\n",
    "        sold_sa = []\n",
    "        sold_opt = []\n",
    "        capacity_sa = capacity\n",
    "        capacity_opt = capacity\n",
    "        # Assume low class arrives before high class\n",
    "        for i in range(n_class - 1, 0, -1):\n",
    "            # Tickets sold with stochastic approximation algorithm\n",
    "            # It is possible that hypothetical protection level for a class exceeds capacity\n",
    "            BL_sa = max(capacity_sa - theta_update[i-1], 0)\n",
    "            # Tickets sold is the lower of booking requests and booking limits for that class\n",
    "            sold1 = min(obs_demand[i], BL_sa)\n",
    "            sold_sa.append(sold1)\n",
    "            # Update capacity for the next arrival class\n",
    "            capacity_sa = capacity_sa - sold1\n",
    "            \n",
    "            # Tickets sold with optimal protection levels\n",
    "            BL_opt = max(capacity_opt - theta_norm[i-1], 0)\n",
    "            sold2 = min(obs_demand[i], BL_opt)\n",
    "            sold_opt.append(sold2)\n",
    "            capacity_opt = capacity_opt - sold2\n",
    "        # Calculate revenue from first class separately since there is no booking limit\n",
    "        # for this class\n",
    "        # SA algorithm\n",
    "        sold_first_class_sa = min(obs_demand[0], capacity_sa)\n",
    "        sold_sa.append(sold_first_class_sa)\n",
    "        \n",
    "        # Optimal protection levels\n",
    "        sold_first_class_opt = min(obs_demand[0], capacity_opt)\n",
    "        sold_opt.append(sold_first_class_opt)\n",
    "        \n",
    "        # Reverse the order since current array is from class 4 to class 1\n",
    "        sold_sa = sold_sa[::-1]\n",
    "        sold_opt = sold_opt[::-1]\n",
    "\n",
    "        # Compute revenue\n",
    "        rev_sa = np.inner(sold_sa, fare)\n",
    "        rev_opt = np.inner(sold_opt, fare)\n",
    "        # Store the revenue info\n",
    "        revs_sa.append(rev_sa)\n",
    "        revs_opt.append(rev_opt)\n",
    "        \n",
    "        obs_demand_cumsum = np.cumsum(obs_demand)\n",
    "        \n",
    "        # Compute if the demand for a class exceeds its corresponding protection levels \n",
    "        Y = np.array([1 if obs_demand_cumsum[i] > theta_update[i] else 0 for i in range(n_class - 1)])\n",
    "        # Implement Equation(2) in vanRyzin-McGill 2000\n",
    "        Z = np.cumprod(Y)\n",
    "        # Calculate H(theta, x)\n",
    "        H = ratio - Z\n",
    "        theta_update = theta_update - (param1 / (param2+flight)) * H\n",
    "        # Capacity constraint and nonnegativity for protection levels\n",
    "        theta_update = np.minimum(theta_update, np.repeat(capacity, n_class - 1))\n",
    "        theta_update = np.maximum(theta_update, np.zeros(n_class - 1))\n",
    "        # Store protection levels evolvement\n",
    "        thetas.append(theta_update)\n",
    "\n",
    "thetas = np.array(thetas).reshape(n_simulation, flights, n_class - 1)\n",
    "revs_sa = np.array(revs_sa).reshape(n_simulation, flights)\n",
    "revs_opt = np.array(revs_opt).reshape(n_simulation, flights)"
   ]
  },
  {
   "cell_type": "code",
   "execution_count": 165,
   "metadata": {},
   "outputs": [],
   "source": [
    "# Calculate averages for each flight over all simulations\n",
    "thetas_avg = np.mean(thetas, axis = 0)\n",
    "revs_sa_avg = np.mean(revs_sa, axis = 0)\n",
    "revs_opt_avg = np.mean(revs_opt, axis = 0)\n",
    "\n",
    "# Calculate revenue gap as percentages of revenue obtained from optimal protection levels\n",
    "rev_gap = revs_sa_avg / revs_opt_avg"
   ]
  },
  {
   "cell_type": "code",
   "execution_count": 39,
   "metadata": {},
   "outputs": [
    {
     "data": {
      "image/png": "[encoded data removed]",
      "text/plain": [
       "<Figure size 720x720 with 1 Axes>"
      ]
     },
     "metadata": {
      "needs_background": "light"
     },
     "output_type": "display_data"
    }
   ],
   "source": [
    "plt.figure(figsize=(10, 10))\n",
    "plt.plot(thetas_avg)\n",
    "plt.hlines(theta_norm, xmin = 0, xmax = 100, ls='dashed', color='r')\n",
    "plt.axis([0, 100, 0, 160])\n",
    "plt.xlabel('Iteration')\n",
    "plt.ylabel('SA Protection Levels')\n",
    "plt.xticks(np.arange(0, 100, step=10))\n",
    "plt.vlines(10, ymin=0, ymax=160, ls='dotted')\n",
    "plt.show()"
   ]
  },
  {
   "cell_type": "code",
   "execution_count": 167,
   "metadata": {},
   "outputs": [
    {
     "data": {
      "image/png": "[encoded data removed]",
      "text/plain": [
       "<Figure size 720x720 with 1 Axes>"
      ]
     },
     "metadata": {
      "needs_background": "light"
     },
     "output_type": "display_data"
    }
   ],
   "source": [
    "fig, ax = plt.subplots(figsize=(10, 10))\n",
    "plt.plot(rev_gap)\n",
    "plt.axis([0, 100, 0.9, 1.0])\n",
    "plt.xlabel('Iteration')\n",
    "plt.ylabel('Cumulative Revenue (%Opt)')\n",
    "plt.xticks(np.arange(0, 100, step=10))\n",
    "plt.yticks(np.arange(0.9, 1.01, step=0.02))\n",
    "ax.yaxis.set_major_formatter(PercentFormatter(1))\n",
    "plt.vlines(10, ymin=0, ymax=1, ls='dotted')\n",
    "plt.show()"
   ]
  },
  {
   "cell_type": "code",
   "execution_count": null,
   "metadata": {},
   "outputs": [],
   "source": []
  }
 ],
 "metadata": {
  "kernelspec": {
   "display_name": "Python 3",
   "language": "python",
   "name": "python3"
  },
  "language_info": {
   "codemirror_mode": {
    "name": "ipython",
    "version": 3
   },
   "file_extension": ".py",
   "mimetype": "text/x-python",
   "name": "python",
   "nbconvert_exporter": "python",
   "pygments_lexer": "ipython3",
   "version": "3.7.7"
  }
 },
 "nbformat": 4,
 "nbformat_minor": 4
}
