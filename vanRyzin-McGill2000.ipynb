{
 "cells": [
  {
   "cell_type": "code",
   "execution_count": 1,
   "metadata": {},
   "outputs": [],
   "source": [
    "# This notebook replicates McGill-van Ryzin 2000 Management Science Article"
   ]
  },
  {
   "cell_type": "code",
   "execution_count": 2,
   "metadata": {},
   "outputs": [],
   "source": [
    "import numpy as np\n",
    "import scipy.stats as st\n",
    "import matplotlib.pyplot as plt"
   ]
  },
  {
   "cell_type": "code",
   "execution_count": 3,
   "metadata": {},
   "outputs": [],
   "source": [
    "# Test problem scenarios: four classes with different fares and demand statistics\n",
    "n_class = 4\n",
    "fare = np.array([1050, 567, 527, 350])\n",
    "mean = np.array([17.3, 45.1, 73.6, 19.8])\n",
    "std = np.array([5.8, 15.0, 17.4, 6.6])"
   ]
  },
  {
   "cell_type": "code",
   "execution_count": 4,
   "metadata": {},
   "outputs": [],
   "source": [
    "mean_cumsum = np.cumsum(mean)\n",
    "std_cumsum = np.sqrt(np.cumsum(std**2))\n",
    "totalrev = fare * mean\n",
    "totalrev_cumsum = np.cumsum(totalrev)"
   ]
  },
  {
   "cell_type": "code",
   "execution_count": 5,
   "metadata": {},
   "outputs": [
    {
     "data": {
      "text/plain": [
       "(array([ 17.3,  62.4, 136. , 155.8]),\n",
       " array([ 5.8       , 16.08228839, 23.69388107, 24.59593462]),\n",
       " array([18165. , 25571.7, 38787.2,  6930. ]),\n",
       " array([18165. , 43736.7, 82523.9, 89453.9]))"
      ]
     },
     "execution_count": 5,
     "metadata": {},
     "output_type": "execute_result"
    }
   ],
   "source": [
    "(mean_cumsum, std_cumsum, totalrev, totalrev_cumsum)"
   ]
  },
  {
   "cell_type": "code",
   "execution_count": 6,
   "metadata": {},
   "outputs": [],
   "source": [
    "# Compute weighted average revenue\n",
    "avgrev_weighted = totalrev_cumsum / mean_cumsum\n",
    "# Probability of demand being higher than the protection level\n",
    "prob_emsr = np.array([fare[i+1] / avgrev_weighted[i] for i in range(n_class - 1)])"
   ]
  },
  {
   "cell_type": "code",
   "execution_count": 7,
   "metadata": {},
   "outputs": [
    {
     "data": {
      "text/plain": [
       "(array([1050.        ,  700.90865385,  606.79338235,  574.15853659]),\n",
       " array([0.54      , 0.75188114, 0.5768026 ]))"
      ]
     },
     "execution_count": 7,
     "metadata": {},
     "output_type": "execute_result"
    }
   ],
   "source": [
    "avgrev_weighted, prob_emsr"
   ]
  },
  {
   "cell_type": "code",
   "execution_count": 8,
   "metadata": {},
   "outputs": [],
   "source": [
    "# EMSR-b protection levels\n",
    "theta_emsr = st.norm.ppf(1 - prob_emsr, mean_cumsum[:-1], std_cumsum[:-1])"
   ]
  },
  {
   "cell_type": "code",
   "execution_count": 9,
   "metadata": {},
   "outputs": [
    {
     "data": {
      "text/plain": [
       "array([ 16.71748442,  51.4572678 , 131.41001141])"
      ]
     },
     "execution_count": 9,
     "metadata": {},
     "output_type": "execute_result"
    }
   ],
   "source": [
    "theta_emsr"
   ]
  },
  {
   "cell_type": "code",
   "execution_count": 10,
   "metadata": {},
   "outputs": [],
   "source": [
    "# Calculate optimal protection level based on stochastic approximation (SA)\n",
    "ratio = np.array([fare[i] / fare[0] for i in range(1, n_class)])"
   ]
  },
  {
   "cell_type": "code",
   "execution_count": 11,
   "metadata": {},
   "outputs": [],
   "source": [
    "# In order to find optimal protection levels for SA algorithm, we use\n",
    "# monte carlo integration specified in McGill-van Ryzin(2004) book\n",
    "# Page 43\n",
    "size = 100000\n",
    "# Normal dist\n",
    "demand = np.array([np.random.normal(mean[i], std[i], size) for i in range(n_class)])\n",
    "\n",
    "# Lognormal dist\n",
    "# Be careful when calculating parameters: https://en.wikipedia.org/wiki/Log-normal_distribution\n",
    "# logmean = np.log(mean**2 / np.sqrt(mean**2 + std**2))\n",
    "# logstd = np.sqrt(np.log(1 + std**2 / mean**2))\n",
    "# demand = np.array([np.random.lognormal(logmean[i], logstd[i], size=size) for i in range(n_class)])\n",
    "\n",
    "demand = np.transpose(demand)"
   ]
  },
  {
   "cell_type": "code",
   "execution_count": 12,
   "metadata": {},
   "outputs": [
    {
     "data": {
      "text/plain": [
       "array([[31.57075521, 44.2754519 , 88.40516361,  6.59527285],\n",
       "       [15.02709161, 44.57180409, 77.71735304, 17.09794097],\n",
       "       [13.28667021, 44.99522037, 72.5070114 , 19.39906784],\n",
       "       [15.48570594, 47.60621413, 93.05159951,  5.93997117],\n",
       "       [22.67009894, 38.33478507, 64.05475001, 27.08362691],\n",
       "       [21.77795698, 56.68841881, 76.87114012, 21.80911104],\n",
       "       [13.20751624, 40.2496485 , 57.93685133, 13.71133715],\n",
       "       [12.43544978, 24.74252044, 96.08788417, 23.0799683 ],\n",
       "       [ 5.38434199, 73.724113  , 55.6266903 , 14.07543043],\n",
       "       [ 6.54165204, 39.29418687, 94.1308385 , 20.52791147]])"
      ]
     },
     "execution_count": 12,
     "metadata": {},
     "output_type": "execute_result"
    }
   ],
   "source": [
    "demand[:10,]"
   ]
  },
  {
   "cell_type": "code",
   "execution_count": 13,
   "metadata": {},
   "outputs": [
    {
     "data": {
      "text/plain": [
       "array([[ 31.57075521,  75.84620711, 164.25137072, 170.84664356],\n",
       "       [ 15.02709161,  59.5988957 , 137.31624874, 154.41418971],\n",
       "       [ 13.28667021,  58.28189059, 130.78890199, 150.18796983],\n",
       "       [ 15.48570594,  63.09192007, 156.14351958, 162.08349076],\n",
       "       [ 22.67009894,  61.004884  , 125.05963401, 152.14326092],\n",
       "       [ 21.77795698,  78.46637579, 155.33751591, 177.14662696],\n",
       "       [ 13.20751624,  53.45716474, 111.39401606, 125.10535321],\n",
       "       [ 12.43544978,  37.17797022, 133.26585439, 156.34582268],\n",
       "       [  5.38434199,  79.10845499, 134.73514529, 148.81057572],\n",
       "       [  6.54165204,  45.83583891, 139.96667741, 160.49458888]])"
      ]
     },
     "execution_count": 13,
     "metadata": {},
     "output_type": "execute_result"
    }
   ],
   "source": [
    "# Compute random demand partial sums\n",
    "demand_cumsum = np.array([np.cumsum(demand[i]) for i in range(size)])\n",
    "demand_cumsum[:10]"
   ]
  },
  {
   "cell_type": "code",
   "execution_count": 14,
   "metadata": {},
   "outputs": [],
   "source": [
    "theta_norm = []\n",
    "cumsum_copy = demand_cumsum.copy()\n",
    "for j in range(n_class - 1):\n",
    "    # Step 1\n",
    "    cumsum_copy_ordered = np.sort(cumsum_copy[:, j])\n",
    "    # Step 2\n",
    "    threshold = int(np.floor((fare[j+1] / fare[j]) * len(cumsum_copy_ordered)))\n",
    "    # An error in the initial algorithm. After calculation l*, there should be\n",
    "    # one more calculation before finding y_j, which is the index used to calculate\n",
    "    # y_j should be |k|-l*, not l* itself.\n",
    "    threshold = len(cumsum_copy_ordered) - threshold\n",
    "    theta = 0.5 * (cumsum_copy_ordered[threshold-1] + cumsum_copy_ordered[threshold])\n",
    "    # Step 3\n",
    "    index = np.where(cumsum_copy[:, j] > theta)\n",
    "    # In step 3, we only keep the updated values we use for next iteration\n",
    "    cumsum_copy = cumsum_copy[index]\n",
    "    theta_norm.append(theta)"
   ]
  },
  {
   "cell_type": "code",
   "execution_count": 15,
   "metadata": {},
   "outputs": [
    {
     "data": {
      "text/plain": [
       "[16.711870768473116, 43.99051593695084, 132.67582790766411]"
      ]
     },
     "execution_count": 15,
     "metadata": {},
     "output_type": "execute_result"
    }
   ],
   "source": [
    "theta_norm"
   ]
  },
  {
   "cell_type": "code",
   "execution_count": 16,
   "metadata": {},
   "outputs": [
    {
     "name": "stdout",
     "output_type": "stream",
     "text": [
      "1.26 0.95\n"
     ]
    }
   ],
   "source": [
    "# Algorithm starting protection levels\n",
    "theta_low = np.array([0, 15, 65])\n",
    "theta_high = np.array([35, 110, 210])\n",
    "expected_demand = np.sum(mean)\n",
    "cap_low = 124\n",
    "cap_high = 164\n",
    "\n",
    "# For SA algorithm, we have two parameters for step size: param1 and param2\n",
    "param1, param2 = 200, 10\n",
    "\n",
    "# Calculate load factors\n",
    "load_high = expected_demand / cap_low\n",
    "load_low = expected_demand / cap_high\n",
    "print(\"%.2f\" % load_high, \"%.2f\" % load_low)"
   ]
  },
  {
   "cell_type": "code",
   "execution_count": 17,
   "metadata": {},
   "outputs": [],
   "source": [
    "# For the remainder of the simulation, assume normal distribution\n",
    "flights = 100\n",
    "n_simulation = 64\n",
    "thetas = []\n",
    "for _ in range(n_simulation):\n",
    "    theta_update = theta_low\n",
    "    capacity = cap_low\n",
    "    for flight in range(flights):\n",
    "        obs_demand = np.array([np.random.normal(mean[i], std[i], 1) for i in range(n_class)])\n",
    "        obs_demand_cumsum = np.cumsum(obs_demand)\n",
    "        # Compute if the demand for a class exceeds its corresponding protection levels \n",
    "        Y = np.array([1 if obs_demand_cumsum[i] > theta_update[i] else 0 for i in range(n_class - 1)])\n",
    "        # Implement Equation(2) in vanRyzin-McGill 2000\n",
    "        Z = np.cumprod(Y)\n",
    "        # Calculate H(theta, x)\n",
    "        H = ratio - Z\n",
    "        theta_update = theta_update - (param1 / (param2+flight)) * H\n",
    "        # Capacity constraint and nonnegativity for protection levels\n",
    "        theta_update = np.minimum(theta_update, np.repeat(capacity, n_class - 1))\n",
    "        theta_update = np.maximum(theta_update, np.zeros(n_class - 1))\n",
    "        thetas.append(theta_update)\n",
    "\n",
    "thetas = np.array(thetas).reshape(n_simulation, flights, n_class - 1)"
   ]
  },
  {
   "cell_type": "code",
   "execution_count": 18,
   "metadata": {},
   "outputs": [],
   "source": [
    "thetas_avg = np.mean(thetas, axis = 0)"
   ]
  },
  {
   "cell_type": "code",
   "execution_count": 33,
   "metadata": {},
   "outputs": [
    {
     "data": {
      "image/png": "[encoded data removed]",
      "text/plain": [
       "<Figure size 720x720 with 1 Axes>"
      ]
     },
     "metadata": {
      "needs_background": "light"
     },
     "output_type": "display_data"
    }
   ],
   "source": [
    "plt.figure(figsize=(10, 10))\n",
    "plt.plot(thetas_avg)\n",
    "plt.hlines(theta_norm, xmin = 0, xmax = 100, ls='dashed', color='r')\n",
    "plt.axis([0, 100, 0, 160])\n",
    "plt.xlabel('Iteration')\n",
    "plt.ylabel('SA Protection Levels')\n",
    "plt.xticks(np.arange(0, 100, step=10))\n",
    "plt.vlines(10, ymin=0, ymax=160, ls='dotted')\n",
    "plt.show()"
   ]
  },
  {
   "cell_type": "code",
   "execution_count": null,
   "metadata": {},
   "outputs": [],
   "source": []
  }
 ],
 "metadata": {
  "kernelspec": {
   "display_name": "Python 3",
   "language": "python",
   "name": "python3"
  },
  "language_info": {
   "codemirror_mode": {
    "name": "ipython",
    "version": 3
   },
   "file_extension": ".py",
   "mimetype": "text/x-python",
   "name": "python",
   "nbconvert_exporter": "python",
   "pygments_lexer": "ipython3",
   "version": "3.7.7"
  }
 },
 "nbformat": 4,
 "nbformat_minor": 4
}
